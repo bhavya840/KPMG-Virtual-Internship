{
 "cells": [
  {
   "cell_type": "code",
   "execution_count": 1,
   "metadata": {
    "colab": {},
    "colab_type": "code",
    "id": "bcsuxaZTil8u"
   },
   "outputs": [
    {
     "name": "stderr",
     "output_type": "stream",
     "text": [
      "In D:\\anaconda\\lib\\site-packages\\matplotlib\\mpl-data\\stylelib\\_classic_test.mplstyle: \n",
      "The savefig.frameon rcparam was deprecated in Matplotlib 3.1 and will be removed in 3.3.\n",
      "In D:\\anaconda\\lib\\site-packages\\matplotlib\\mpl-data\\stylelib\\_classic_test.mplstyle: \n",
      "The verbose.level rcparam was deprecated in Matplotlib 3.1 and will be removed in 3.3.\n",
      "In D:\\anaconda\\lib\\site-packages\\matplotlib\\mpl-data\\stylelib\\_classic_test.mplstyle: \n",
      "The verbose.fileo rcparam was deprecated in Matplotlib 3.1 and will be removed in 3.3.\n"
     ]
    }
   ],
   "source": [
    "import pandas as pd\n",
    "import numpy as np\n",
    "import matplotlib.pyplot as plt\n",
    "%matplotlib inline"
   ]
  },
  {
   "cell_type": "code",
   "execution_count": 2,
   "metadata": {
    "colab": {
     "base_uri": "https://localhost:8080/",
     "height": 383
    },
    "colab_type": "code",
    "id": "oy33AMqblNDY",
    "outputId": "27748387-3d1f-471e-ad8a-0641a1fb1734"
   },
   "outputs": [
    {
     "data": {
      "text/html": [
       "<div>\n",
       "<style scoped>\n",
       "    .dataframe tbody tr th:only-of-type {\n",
       "        vertical-align: middle;\n",
       "    }\n",
       "\n",
       "    .dataframe tbody tr th {\n",
       "        vertical-align: top;\n",
       "    }\n",
       "\n",
       "    .dataframe thead th {\n",
       "        text-align: right;\n",
       "    }\n",
       "</style>\n",
       "<table border=\"1\" class=\"dataframe\">\n",
       "  <thead>\n",
       "    <tr style=\"text-align: right;\">\n",
       "      <th></th>\n",
       "      <th>first_name</th>\n",
       "      <th>last_name</th>\n",
       "      <th>gender</th>\n",
       "      <th>past_3_years_bike_related_purchases</th>\n",
       "      <th>DOB</th>\n",
       "      <th>job_title</th>\n",
       "      <th>job_industry_category</th>\n",
       "      <th>wealth_segment</th>\n",
       "      <th>deceased_indicator</th>\n",
       "      <th>owns_car</th>\n",
       "      <th>tenure</th>\n",
       "      <th>address</th>\n",
       "      <th>postcode</th>\n",
       "      <th>state</th>\n",
       "      <th>country</th>\n",
       "      <th>property_valuation</th>\n",
       "      <th>Rank</th>\n",
       "      <th>Value</th>\n",
       "    </tr>\n",
       "  </thead>\n",
       "  <tbody>\n",
       "    <tr>\n",
       "      <th>0</th>\n",
       "      <td>Chickie</td>\n",
       "      <td>Brister</td>\n",
       "      <td>Male</td>\n",
       "      <td>86</td>\n",
       "      <td>1957-07-12</td>\n",
       "      <td>General Manager</td>\n",
       "      <td>Manufacturing</td>\n",
       "      <td>Mass Customer</td>\n",
       "      <td>N</td>\n",
       "      <td>Yes</td>\n",
       "      <td>14</td>\n",
       "      <td>45 Shopko Center</td>\n",
       "      <td>4500</td>\n",
       "      <td>QLD</td>\n",
       "      <td>Australia</td>\n",
       "      <td>6</td>\n",
       "      <td>1</td>\n",
       "      <td>1.718750</td>\n",
       "    </tr>\n",
       "    <tr>\n",
       "      <th>1</th>\n",
       "      <td>Morly</td>\n",
       "      <td>Genery</td>\n",
       "      <td>Male</td>\n",
       "      <td>69</td>\n",
       "      <td>1970-03-22</td>\n",
       "      <td>Structural Engineer</td>\n",
       "      <td>Property</td>\n",
       "      <td>Mass Customer</td>\n",
       "      <td>N</td>\n",
       "      <td>No</td>\n",
       "      <td>16</td>\n",
       "      <td>14 Mccormick Park</td>\n",
       "      <td>2113</td>\n",
       "      <td>NSW</td>\n",
       "      <td>Australia</td>\n",
       "      <td>11</td>\n",
       "      <td>1</td>\n",
       "      <td>1.718750</td>\n",
       "    </tr>\n",
       "    <tr>\n",
       "      <th>2</th>\n",
       "      <td>Ardelis</td>\n",
       "      <td>Forrester</td>\n",
       "      <td>Female</td>\n",
       "      <td>10</td>\n",
       "      <td>1974-08-28</td>\n",
       "      <td>Senior Cost Accountant</td>\n",
       "      <td>Financial Services</td>\n",
       "      <td>Affluent Customer</td>\n",
       "      <td>N</td>\n",
       "      <td>No</td>\n",
       "      <td>10</td>\n",
       "      <td>5 Colorado Crossing</td>\n",
       "      <td>3505</td>\n",
       "      <td>VIC</td>\n",
       "      <td>Australia</td>\n",
       "      <td>5</td>\n",
       "      <td>1</td>\n",
       "      <td>1.718750</td>\n",
       "    </tr>\n",
       "    <tr>\n",
       "      <th>3</th>\n",
       "      <td>Lucine</td>\n",
       "      <td>Stutt</td>\n",
       "      <td>Female</td>\n",
       "      <td>64</td>\n",
       "      <td>1979-01-28</td>\n",
       "      <td>Account Representative III</td>\n",
       "      <td>Manufacturing</td>\n",
       "      <td>Affluent Customer</td>\n",
       "      <td>N</td>\n",
       "      <td>Yes</td>\n",
       "      <td>5</td>\n",
       "      <td>207 Annamark Plaza</td>\n",
       "      <td>4814</td>\n",
       "      <td>QLD</td>\n",
       "      <td>Australia</td>\n",
       "      <td>1</td>\n",
       "      <td>4</td>\n",
       "      <td>1.703125</td>\n",
       "    </tr>\n",
       "    <tr>\n",
       "      <th>4</th>\n",
       "      <td>Melinda</td>\n",
       "      <td>Hadlee</td>\n",
       "      <td>Female</td>\n",
       "      <td>34</td>\n",
       "      <td>1965-09-21</td>\n",
       "      <td>Financial Analyst</td>\n",
       "      <td>Financial Services</td>\n",
       "      <td>Affluent Customer</td>\n",
       "      <td>N</td>\n",
       "      <td>No</td>\n",
       "      <td>19</td>\n",
       "      <td>115 Montana Place</td>\n",
       "      <td>2093</td>\n",
       "      <td>NSW</td>\n",
       "      <td>Australia</td>\n",
       "      <td>9</td>\n",
       "      <td>4</td>\n",
       "      <td>1.703125</td>\n",
       "    </tr>\n",
       "  </tbody>\n",
       "</table>\n",
       "</div>"
      ],
      "text/plain": [
       "  first_name  last_name  gender  past_3_years_bike_related_purchases  \\\n",
       "0    Chickie    Brister    Male                                   86   \n",
       "1      Morly     Genery    Male                                   69   \n",
       "2    Ardelis  Forrester  Female                                   10   \n",
       "3     Lucine      Stutt  Female                                   64   \n",
       "4    Melinda     Hadlee  Female                                   34   \n",
       "\n",
       "         DOB                   job_title job_industry_category  \\\n",
       "0 1957-07-12             General Manager         Manufacturing   \n",
       "1 1970-03-22         Structural Engineer              Property   \n",
       "2 1974-08-28      Senior Cost Accountant    Financial Services   \n",
       "3 1979-01-28  Account Representative III         Manufacturing   \n",
       "4 1965-09-21           Financial Analyst    Financial Services   \n",
       "\n",
       "      wealth_segment deceased_indicator owns_car  tenure              address  \\\n",
       "0      Mass Customer                  N      Yes      14     45 Shopko Center   \n",
       "1      Mass Customer                  N       No      16    14 Mccormick Park   \n",
       "2  Affluent Customer                  N       No      10  5 Colorado Crossing   \n",
       "3  Affluent Customer                  N      Yes       5   207 Annamark Plaza   \n",
       "4  Affluent Customer                  N       No      19    115 Montana Place   \n",
       "\n",
       "   postcode state    country  property_valuation  Rank     Value  \n",
       "0      4500   QLD  Australia                   6     1  1.718750  \n",
       "1      2113   NSW  Australia                  11     1  1.718750  \n",
       "2      3505   VIC  Australia                   5     1  1.718750  \n",
       "3      4814   QLD  Australia                   1     4  1.703125  \n",
       "4      2093   NSW  Australia                   9     4  1.703125  "
      ]
     },
     "execution_count": 2,
     "metadata": {},
     "output_type": "execute_result"
    }
   ],
   "source": [
    "train = pd.read_excel('NewCustomerList table.xlsx')\n",
    "train.head()"
   ]
  },
  {
   "cell_type": "code",
   "execution_count": 3,
   "metadata": {
    "colab": {
     "base_uri": "https://localhost:8080/",
     "height": 355
    },
    "colab_type": "code",
    "id": "OhNNRGTloeMn",
    "outputId": "546427b9-b1a8-4049-fdfc-1876fd187b4b"
   },
   "outputs": [
    {
     "data": {
      "text/plain": [
       "first_name                               0\n",
       "last_name                               29\n",
       "gender                                   0\n",
       "past_3_years_bike_related_purchases      0\n",
       "DOB                                     17\n",
       "job_title                              106\n",
       "job_industry_category                  165\n",
       "wealth_segment                           0\n",
       "deceased_indicator                       0\n",
       "owns_car                                 0\n",
       "tenure                                   0\n",
       "address                                  0\n",
       "postcode                                 0\n",
       "state                                    0\n",
       "country                                  0\n",
       "property_valuation                       0\n",
       "Rank                                     0\n",
       "Value                                    0\n",
       "dtype: int64"
      ]
     },
     "execution_count": 3,
     "metadata": {},
     "output_type": "execute_result"
    }
   ],
   "source": [
    "train.isnull().sum()"
   ]
  },
  {
   "cell_type": "code",
   "execution_count": 4,
   "metadata": {
    "colab": {},
    "colab_type": "code",
    "id": "fllM1M53pGVv"
   },
   "outputs": [],
   "source": [
    "train['last_name']=train['last_name'].fillna(method='ffill')"
   ]
  },
  {
   "cell_type": "code",
   "execution_count": 5,
   "metadata": {
    "colab": {},
    "colab_type": "code",
    "id": "NVbT9HjdpGgX"
   },
   "outputs": [],
   "source": [
    "train['DOB']=train['DOB'].fillna(method='ffill')"
   ]
  },
  {
   "cell_type": "code",
   "execution_count": 6,
   "metadata": {
    "colab": {
     "base_uri": "https://localhost:8080/",
     "height": 1000
    },
    "colab_type": "code",
    "id": "WMdGiGVUpGl6",
    "outputId": "04d71e16-6734-48a5-b21c-ad7f5c3e6cbc"
   },
   "outputs": [
    {
     "data": {
      "text/plain": [
       "Associate Professor             15\n",
       "Environmental Tech              14\n",
       "Software Consultant             14\n",
       "Chief Design Engineer           13\n",
       "Cost Accountant                 12\n",
       "                                ..\n",
       "Software Test Engineer III       1\n",
       "Computer Systems Analyst III     1\n",
       "Office Assistant I               1\n",
       "Account Representative II        1\n",
       "Programmer IV                    1\n",
       "Name: job_title, Length: 184, dtype: int64"
      ]
     },
     "execution_count": 6,
     "metadata": {},
     "output_type": "execute_result"
    }
   ],
   "source": [
    "train['job_title'].value_counts()"
   ]
  },
  {
   "cell_type": "code",
   "execution_count": 7,
   "metadata": {
    "colab": {},
    "colab_type": "code",
    "id": "C6dlUWOSpGrd"
   },
   "outputs": [],
   "source": [
    "train['job_title']=train['job_title'].fillna(method='bfill')"
   ]
  },
  {
   "cell_type": "code",
   "execution_count": 8,
   "metadata": {
    "colab": {
     "base_uri": "https://localhost:8080/",
     "height": 195
    },
    "colab_type": "code",
    "id": "Ym6KoFqapGw5",
    "outputId": "fb6b9dc0-fbe1-4fb6-e873-28a00ac28412"
   },
   "outputs": [
    {
     "data": {
      "text/plain": [
       "Financial Services    203\n",
       "Manufacturing         199\n",
       "Health                152\n",
       "Retail                 78\n",
       "Property               64\n",
       "IT                     51\n",
       "Entertainment          37\n",
       "Argiculture            26\n",
       "Telecommunications     25\n",
       "Name: job_industry_category, dtype: int64"
      ]
     },
     "execution_count": 8,
     "metadata": {},
     "output_type": "execute_result"
    }
   ],
   "source": [
    "train['job_industry_category'].value_counts()"
   ]
  },
  {
   "cell_type": "code",
   "execution_count": 9,
   "metadata": {
    "colab": {},
    "colab_type": "code",
    "id": "98GLWxIjpGvt"
   },
   "outputs": [],
   "source": [
    "train['job_industry_category']=train['job_industry_category'].fillna(method='bfill')"
   ]
  },
  {
   "cell_type": "code",
   "execution_count": 10,
   "metadata": {
    "colab": {
     "base_uri": "https://localhost:8080/",
     "height": 130
    },
    "colab_type": "code",
    "id": "1NrAL9TdpGqc",
    "outputId": "06fbabfb-0bf7-4346-909e-ffac05f7483c"
   },
   "outputs": [
    {
     "data": {
      "text/html": [
       "<div>\n",
       "<style scoped>\n",
       "    .dataframe tbody tr th:only-of-type {\n",
       "        vertical-align: middle;\n",
       "    }\n",
       "\n",
       "    .dataframe tbody tr th {\n",
       "        vertical-align: top;\n",
       "    }\n",
       "\n",
       "    .dataframe thead th {\n",
       "        text-align: right;\n",
       "    }\n",
       "</style>\n",
       "<table border=\"1\" class=\"dataframe\">\n",
       "  <thead>\n",
       "    <tr style=\"text-align: right;\">\n",
       "      <th></th>\n",
       "      <th>first_name</th>\n",
       "      <th>last_name</th>\n",
       "      <th>gender</th>\n",
       "      <th>past_3_years_bike_related_purchases</th>\n",
       "      <th>DOB</th>\n",
       "      <th>job_title</th>\n",
       "      <th>job_industry_category</th>\n",
       "      <th>wealth_segment</th>\n",
       "      <th>deceased_indicator</th>\n",
       "      <th>owns_car</th>\n",
       "      <th>tenure</th>\n",
       "      <th>address</th>\n",
       "      <th>postcode</th>\n",
       "      <th>state</th>\n",
       "      <th>country</th>\n",
       "      <th>property_valuation</th>\n",
       "      <th>Rank</th>\n",
       "      <th>Value</th>\n",
       "    </tr>\n",
       "  </thead>\n",
       "  <tbody>\n",
       "    <tr>\n",
       "      <th>0</th>\n",
       "      <td>Chickie</td>\n",
       "      <td>Brister</td>\n",
       "      <td>Male</td>\n",
       "      <td>86</td>\n",
       "      <td>1957-07-12</td>\n",
       "      <td>General Manager</td>\n",
       "      <td>Manufacturing</td>\n",
       "      <td>Mass Customer</td>\n",
       "      <td>N</td>\n",
       "      <td>Yes</td>\n",
       "      <td>14</td>\n",
       "      <td>45 Shopko Center</td>\n",
       "      <td>4500</td>\n",
       "      <td>QLD</td>\n",
       "      <td>Australia</td>\n",
       "      <td>6</td>\n",
       "      <td>1</td>\n",
       "      <td>1.71875</td>\n",
       "    </tr>\n",
       "  </tbody>\n",
       "</table>\n",
       "</div>"
      ],
      "text/plain": [
       "  first_name last_name gender  past_3_years_bike_related_purchases        DOB  \\\n",
       "0    Chickie   Brister   Male                                   86 1957-07-12   \n",
       "\n",
       "         job_title job_industry_category wealth_segment deceased_indicator  \\\n",
       "0  General Manager         Manufacturing  Mass Customer                  N   \n",
       "\n",
       "  owns_car  tenure           address  postcode state    country  \\\n",
       "0      Yes      14  45 Shopko Center      4500   QLD  Australia   \n",
       "\n",
       "   property_valuation  Rank    Value  \n",
       "0                   6     1  1.71875  "
      ]
     },
     "execution_count": 10,
     "metadata": {},
     "output_type": "execute_result"
    }
   ],
   "source": [
    "train.head(1)"
   ]
  },
  {
   "cell_type": "code",
   "execution_count": 11,
   "metadata": {
    "colab": {
     "base_uri": "https://localhost:8080/",
     "height": 248
    },
    "colab_type": "code",
    "id": "9mzWxFJlpGPa",
    "outputId": "ffb231ba-e8fa-40fd-94dd-e21e44ffc5f5"
   },
   "outputs": [
    {
     "name": "stdout",
     "output_type": "stream",
     "text": [
      "  first_name  last_name  gender  past_3_years_bike_related_purchases  \\\n",
      "0    Chickie    Brister    Male                                   86   \n",
      "1      Morly     Genery    Male                                   69   \n",
      "2    Ardelis  Forrester  Female                                   10   \n",
      "3     Lucine      Stutt  Female                                   64   \n",
      "4    Melinda     Hadlee  Female                                   34   \n",
      "5      Druci    Brandli  Female                                   39   \n",
      "6   Rutledge      Hallt    Male                                   23   \n",
      "7     Nancie       Vian  Female                                   74   \n",
      "8       Duff  Karlowicz    Male                                   50   \n",
      "9    Barthel     Docket    Male                                   72   \n",
      "\n",
      "         DOB                     job_title job_industry_category  \\\n",
      "0 1957-07-12               General Manager         Manufacturing   \n",
      "1 1970-03-22           Structural Engineer              Property   \n",
      "2 1974-08-28        Senior Cost Accountant    Financial Services   \n",
      "3 1979-01-28    Account Representative III         Manufacturing   \n",
      "4 1965-09-21             Financial Analyst    Financial Services   \n",
      "5 1951-04-29       Assistant Media Planner         Entertainment   \n",
      "6 1976-10-06          Compensation Analyst    Financial Services   \n",
      "7 1972-12-27  Human Resources Assistant II                Retail   \n",
      "8 1972-04-28            Speech Pathologist         Manufacturing   \n",
      "9 1985-08-02       Accounting Assistant IV                    IT   \n",
      "\n",
      "      wealth_segment deceased_indicator owns_car  tenure  \\\n",
      "0      Mass Customer                  N      Yes      14   \n",
      "1      Mass Customer                  N       No      16   \n",
      "2  Affluent Customer                  N       No      10   \n",
      "3  Affluent Customer                  N      Yes       5   \n",
      "4  Affluent Customer                  N       No      19   \n",
      "5     High Net Worth                  N      Yes      22   \n",
      "6      Mass Customer                  N       No       8   \n",
      "7      Mass Customer                  N      Yes      10   \n",
      "8      Mass Customer                  N      Yes       5   \n",
      "9      Mass Customer                  N      Yes      17   \n",
      "\n",
      "                 address  postcode state    country  property_valuation  Rank  \\\n",
      "0       45 Shopko Center      4500   QLD  Australia                   6     1   \n",
      "1      14 Mccormick Park      2113   NSW  Australia                  11     1   \n",
      "2    5 Colorado Crossing      3505   VIC  Australia                   5     1   \n",
      "3     207 Annamark Plaza      4814   QLD  Australia                   1     4   \n",
      "4      115 Montana Place      2093   NSW  Australia                   9     4   \n",
      "5  89105 Pearson Terrace      4075   QLD  Australia                   7     6   \n",
      "6      7 Nevada Crossing      2620   NSW  Australia                   7     6   \n",
      "7       85 Carioca Point      4814   QLD  Australia                   5     8   \n",
      "8         717 West Drive      2200   NSW  Australia                  10     8   \n",
      "9   80 Scofield Junction      4151   QLD  Australia                   5    10   \n",
      "\n",
      "      Value  \n",
      "0  1.718750  \n",
      "1  1.718750  \n",
      "2  1.718750  \n",
      "3  1.703125  \n",
      "4  1.703125  \n",
      "5  1.671875  \n",
      "6  1.671875  \n",
      "7  1.656250  \n",
      "8  1.656250  \n",
      "9  1.640625  \n"
     ]
    }
   ],
   "source": [
    "submission = pd.DataFrame({\n",
    "        \"first_name\": train[\"first_name\"],\n",
    "        \"last_name\": train[\"last_name\"],\n",
    "        \"gender\": train[\"gender\"],\n",
    "        \"past_3_years_bike_related_purchases\": train[\"past_3_years_bike_related_purchases\"],\n",
    "        \"DOB\": train[\"DOB\"],\n",
    "        \"job_title\": train[\"job_title\"],\n",
    "        \"job_industry_category\": train[\"job_industry_category\"],\n",
    "        \"wealth_segment\": train[\"wealth_segment\"],\n",
    "        \"deceased_indicator\": train[\"deceased_indicator\"],\n",
    "        \"owns_car\": train[\"owns_car\"],\n",
    "        \"tenure\": train[\"tenure\"],\n",
    "        \"address\": train[\"address\"],\n",
    "        \"postcode\": train[\"postcode\"],\n",
    "        \"state\": train[\"state\"],\n",
    "        \"country\": train[\"country\"],\n",
    "        \"property_valuation\": train[\"property_valuation\"],\n",
    "        \"Rank\": train[\"Rank\"],\n",
    "        \"Value\": train[\"Value\"]\n",
    "    })\n",
    "submission.to_csv('./submission.csv', index=False)\n",
    "print(submission.head(10))"
   ]
  },
  {
   "cell_type": "code",
   "execution_count": 0,
   "metadata": {
    "colab": {},
    "colab_type": "code",
    "id": "BwtEs1BRtTuB"
   },
   "outputs": [],
   "source": []
  }
 ],
 "metadata": {
  "colab": {
   "name": "kpmg1_2.ipynb",
   "provenance": []
  },
  "kernelspec": {
   "display_name": "Python 3",
   "language": "python",
   "name": "python3"
  },
  "language_info": {
   "codemirror_mode": {
    "name": "ipython",
    "version": 3
   },
   "file_extension": ".py",
   "mimetype": "text/x-python",
   "name": "python",
   "nbconvert_exporter": "python",
   "pygments_lexer": "ipython3",
   "version": "3.7.1"
  }
 },
 "nbformat": 4,
 "nbformat_minor": 1
}
